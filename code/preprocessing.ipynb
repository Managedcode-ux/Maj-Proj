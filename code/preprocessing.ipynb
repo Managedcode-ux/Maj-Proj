{
 "cells": [
  {
   "cell_type": "code",
   "execution_count": 62,
   "metadata": {},
   "outputs": [],
   "source": [
    "import numpy as np\n",
    "import pandas as pd\n",
    "import matplotlib.pyplot as plt\n",
    "import matplotlib.ticker as ticker\n",
    "import plotly.graph_objs as go\n",
    "import plotly.offline as py\n",
    "import seaborn as sns\n",
    "from IPython.display import display,Image\n",
    "from collections import Counter\n",
    "\n",
    "%matplotlib inline\n",
    "sns.set(style = 'white', context = 'notebook', palette = 'deep')\n",
    "\n",
    "import matplotlib.style as style\n",
    "style.use('fivethirtyeight')\n",
    "import time\n",
    "\n",
    "from sklearn.linear_model import LinearRegression\n",
    "from sklearn.tree import DecisionTreeRegressor\n",
    "from sklearn.ensemble import RandomForestRegressor\n",
    "from sklearn.neural_network import MLPRegressor\n",
    "from sklearn.linear_model import Ridge,Lasso\n",
    "from sklearn.neighbors import KNeighborsRegressor\n",
    "import xgboost as xgb\n",
    "import lightgbm\n",
    "\n",
    "from sklearn.model_selection import train_test_split\n",
    "from sklearn.metrics import mean_squared_error, r2_score, mean_absolute_error\n",
    "from sklearn.preprocessing import StandardScaler\n",
    "from sklearn.model_selection import GridSearchCV\n",
    "\n",
    "import warnings\n",
    "warnings.filterwarnings('ignore')"
   ]
  },
  {
   "cell_type": "code",
   "execution_count": 63,
   "metadata": {},
   "outputs": [],
   "source": [
    "df = pd.read_csv('../nyc-rolling-sales.csv',index_col=0)"
   ]
  },
  {
   "cell_type": "markdown",
   "metadata": {},
   "source": [
    "## EDA"
   ]
  },
  {
   "cell_type": "code",
   "execution_count": 64,
   "metadata": {},
   "outputs": [
    {
     "name": "stdout",
     "output_type": "stream",
     "text": [
      "-------------------------------------------------\n",
      "   BOROUGH   NEIGHBORHOOD                      BUILDING CLASS CATEGORY  \\\n",
      "4        1  ALPHABET CITY  07 RENTALS - WALKUP APARTMENTS                \n",
      "5        1  ALPHABET CITY  07 RENTALS - WALKUP APARTMENTS                \n",
      "6        1  ALPHABET CITY  07 RENTALS - WALKUP APARTMENTS                \n",
      "7        1  ALPHABET CITY  07 RENTALS - WALKUP APARTMENTS                \n",
      "8        1  ALPHABET CITY  07 RENTALS - WALKUP APARTMENTS                \n",
      "\n",
      "  TAX CLASS AT PRESENT  BLOCK  LOT EASE-MENT BUILDING CLASS AT PRESENT  \\\n",
      "4                   2A    392    6                                  C2   \n",
      "5                    2    399   26                                  C7   \n",
      "6                    2    399   39                                  C7   \n",
      "7                   2B    402   21                                  C4   \n",
      "8                   2A    404   55                                  C2   \n",
      "\n",
      "                  ADDRESS APARTMENT NUMBER  ...  RESIDENTIAL UNITS  \\\n",
      "4            153 AVENUE B                   ...                  5   \n",
      "5   234 EAST 4TH   STREET                   ...                 28   \n",
      "6   197 EAST 3RD   STREET                   ...                 16   \n",
      "7     154 EAST 7TH STREET                   ...                 10   \n",
      "8  301 EAST 10TH   STREET                   ...                  6   \n",
      "\n",
      "   COMMERCIAL UNITS  TOTAL UNITS  LAND SQUARE FEET GROSS SQUARE FEET  \\\n",
      "4                 0            5              1633              6440   \n",
      "5                 3           31              4616             18690   \n",
      "6                 1           17              2212              7803   \n",
      "7                 0           10              2272              6794   \n",
      "8                 0            6              2369              4615   \n",
      "\n",
      "  YEAR BUILT  TAX CLASS AT TIME OF SALE  BUILDING CLASS AT TIME OF SALE  \\\n",
      "4       1900                          2                              C2   \n",
      "5       1900                          2                              C7   \n",
      "6       1900                          2                              C7   \n",
      "7       1913                          2                              C4   \n",
      "8       1900                          2                              C2   \n",
      "\n",
      "  SALE PRICE            SALE DATE  \n",
      "4    6625000  2017-07-19 00:00:00  \n",
      "5        -    2016-12-14 00:00:00  \n",
      "6        -    2016-12-09 00:00:00  \n",
      "7    3936272  2016-09-23 00:00:00  \n",
      "8    8000000  2016-11-17 00:00:00  \n",
      "\n",
      "[5 rows x 21 columns]\n",
      "-------------------------------------------------\n",
      "shape of dataset =>(84548, 21)\n",
      "-------------------------------------------------\n"
     ]
    }
   ],
   "source": [
    "df_raw = df\n",
    "print(\"-------------------------------------------------\")\n",
    "print(df.head())\n",
    "print(\"-------------------------------------------------\")\n",
    "print(f\"shape of dataset =>{df.shape}\")\n",
    "print(\"-------------------------------------------------\")"
   ]
  },
  {
   "cell_type": "code",
   "execution_count": 65,
   "metadata": {},
   "outputs": [
    {
     "name": "stdout",
     "output_type": "stream",
     "text": [
      "4       122\n",
      "5       122\n",
      "6       122\n",
      "7       109\n",
      "8       122\n",
      "       ... \n",
      "8409     24\n",
      "8410     24\n",
      "8411     97\n",
      "8412     21\n",
      "8413     16\n",
      "Name: BUILDING_AGE, Length: 84548, dtype: int64\n"
     ]
    }
   ],
   "source": [
    "## adding new variables\n",
    "\n",
    "df['BUILDING_AGE'] = 2022 - df['YEAR BUILT']\n",
    "print(df['BUILDING_AGE'])\n"
   ]
  },
  {
   "cell_type": "code",
   "execution_count": 66,
   "metadata": {},
   "outputs": [],
   "source": [
    "df['BOROUGH'] = df['BOROUGH'].map({1:'Manhattan', 2:'Bronx', 3: 'Brooklyn', 4:'Queens',5:'Staten Island'})"
   ]
  },
  {
   "cell_type": "code",
   "execution_count": 67,
   "metadata": {},
   "outputs": [],
   "source": [
    "# creating year and month column\n",
    "df['sale_year'] = pd.DatetimeIndex(df['SALE DATE']).year\n",
    "df['sale_month'] = pd.DatetimeIndex(df['SALE DATE']).month"
   ]
  },
  {
   "cell_type": "code",
   "execution_count": 68,
   "metadata": {},
   "outputs": [],
   "source": [
    "df['SALE DATE'] = pd.to_datetime(df['SALE DATE'],errors = 'coerce')"
   ]
  },
  {
   "cell_type": "code",
   "execution_count": 69,
   "metadata": {},
   "outputs": [],
   "source": [
    "numeric = [\"RESIDENTIAL UNITS\",\"COMMERCIAL UNITS\",\"TOTAL UNITS\", \"LAND SQUARE FEET\" ,\n",
    "           \"GROSS SQUARE FEET\",\"SALE PRICE\" ]\n",
    "\n",
    "for col in numeric:\n",
    "    df[col] = pd.to_numeric(df[col],errors = 'coerce')"
   ]
  },
  {
   "cell_type": "code",
   "execution_count": 70,
   "metadata": {},
   "outputs": [],
   "source": [
    "categorical = [\"BOROUGH\",\"NEIGHBORHOOD\",'BUILDING CLASS CATEGORY', 'TAX CLASS AT PRESENT',\n",
    "               'BUILDING CLASS AT PRESENT','ZIP CODE', 'BUILDING CLASS AT TIME OF SALE', 'TAX CLASS AT TIME OF SALE']\n",
    "\n",
    "for col in categorical:\n",
    "    df[col] = df[col].astype(object)"
   ]
  },
  {
   "cell_type": "markdown",
   "metadata": {},
   "source": [
    "## MISSING VALUE \n"
   ]
  },
  {
   "cell_type": "code",
   "execution_count": 71,
   "metadata": {},
   "outputs": [],
   "source": [
    "df.replace(' ',np.nan, inplace=True)"
   ]
  },
  {
   "cell_type": "code",
   "execution_count": 72,
   "metadata": {},
   "outputs": [
    {
     "data": {
      "text/plain": [
       "BOROUGH                             0.00\n",
       "NEIGHBORHOOD                        0.00\n",
       "BUILDING CLASS CATEGORY             0.00\n",
       "TAX CLASS AT PRESENT                0.87\n",
       "BLOCK                               0.00\n",
       "LOT                                 0.00\n",
       "EASE-MENT                         100.00\n",
       "BUILDING CLASS AT PRESENT           0.87\n",
       "ADDRESS                             0.00\n",
       "APARTMENT NUMBER                   77.47\n",
       "ZIP CODE                            0.00\n",
       "RESIDENTIAL UNITS                   0.00\n",
       "COMMERCIAL UNITS                    0.00\n",
       "TOTAL UNITS                         0.00\n",
       "LAND SQUARE FEET                   31.05\n",
       "GROSS SQUARE FEET                  32.66\n",
       "YEAR BUILT                          0.00\n",
       "TAX CLASS AT TIME OF SALE           0.00\n",
       "BUILDING CLASS AT TIME OF SALE      0.00\n",
       "SALE PRICE                         17.22\n",
       "SALE DATE                           0.00\n",
       "BUILDING_AGE                        0.00\n",
       "sale_year                           0.00\n",
       "sale_month                          0.00\n",
       "dtype: float64"
      ]
     },
     "execution_count": 72,
     "metadata": {},
     "output_type": "execute_result"
    }
   ],
   "source": [
    "round(df.isna().sum() /len(df) *100,2)"
   ]
  },
  {
   "cell_type": "code",
   "execution_count": 73,
   "metadata": {},
   "outputs": [
    {
     "name": "stdout",
     "output_type": "stream",
     "text": [
      "6\n",
      "1366\n"
     ]
    }
   ],
   "source": [
    "print(df[(df['LAND SQUARE FEET'].isnull()) & (df['GROSS SQUARE FEET'].notnull())].shape[0])\n",
    "print(df[(df['LAND SQUARE FEET'].notnull()) & (df['GROSS SQUARE FEET'].isnull())].shape[0])"
   ]
  },
  {
   "cell_type": "code",
   "execution_count": 74,
   "metadata": {},
   "outputs": [
    {
     "data": {
      "text/html": [
       "<div>\n",
       "<style scoped>\n",
       "    .dataframe tbody tr th:only-of-type {\n",
       "        vertical-align: middle;\n",
       "    }\n",
       "\n",
       "    .dataframe tbody tr th {\n",
       "        vertical-align: top;\n",
       "    }\n",
       "\n",
       "    .dataframe thead th {\n",
       "        text-align: right;\n",
       "    }\n",
       "</style>\n",
       "<table border=\"1\" class=\"dataframe\">\n",
       "  <thead>\n",
       "    <tr style=\"text-align: right;\">\n",
       "      <th></th>\n",
       "      <th>LAND SQUARE FEET</th>\n",
       "      <th>GROSS SQUARE FEET</th>\n",
       "    </tr>\n",
       "  </thead>\n",
       "  <tbody>\n",
       "    <tr>\n",
       "      <th>77</th>\n",
       "      <td>NaN</td>\n",
       "      <td>36472.0</td>\n",
       "    </tr>\n",
       "    <tr>\n",
       "      <th>1878</th>\n",
       "      <td>NaN</td>\n",
       "      <td>51644.0</td>\n",
       "    </tr>\n",
       "    <tr>\n",
       "      <th>2557</th>\n",
       "      <td>NaN</td>\n",
       "      <td>32843.0</td>\n",
       "    </tr>\n",
       "    <tr>\n",
       "      <th>10189</th>\n",
       "      <td>NaN</td>\n",
       "      <td>28801.0</td>\n",
       "    </tr>\n",
       "    <tr>\n",
       "      <th>5806</th>\n",
       "      <td>NaN</td>\n",
       "      <td>33770.0</td>\n",
       "    </tr>\n",
       "    <tr>\n",
       "      <th>5807</th>\n",
       "      <td>NaN</td>\n",
       "      <td>33770.0</td>\n",
       "    </tr>\n",
       "  </tbody>\n",
       "</table>\n",
       "</div>"
      ],
      "text/plain": [
       "       LAND SQUARE FEET  GROSS SQUARE FEET\n",
       "77                  NaN            36472.0\n",
       "1878                NaN            51644.0\n",
       "2557                NaN            32843.0\n",
       "10189               NaN            28801.0\n",
       "5806                NaN            33770.0\n",
       "5807                NaN            33770.0"
      ]
     },
     "execution_count": 74,
     "metadata": {},
     "output_type": "execute_result"
    }
   ],
   "source": [
    "imputation = df[['LAND SQUARE FEET','GROSS SQUARE FEET']]\n",
    "imputation[(imputation['LAND SQUARE FEET'].isnull()) & (imputation['GROSS SQUARE FEET'].notnull())]"
   ]
  },
  {
   "cell_type": "code",
   "execution_count": 75,
   "metadata": {},
   "outputs": [],
   "source": [
    "imputation.dropna(inplace=True)"
   ]
  },
  {
   "cell_type": "code",
   "execution_count": 77,
   "metadata": {},
   "outputs": [
    {
     "name": "stdout",
     "output_type": "stream",
     "text": [
      "Intercept:  [1701.2484797]\n",
      "Coffecient:  [[0.64815423]]\n",
      "Regression Model: Y=[1701.2484797]+[[0.64815423]]X\n",
      "R-Squared:  0.4133841980340115\n"
     ]
    }
   ],
   "source": [
    "#regression model for predicting Gross Square feet\n",
    "X = imputation['LAND SQUARE FEET']\n",
    "y = imputation['GROSS SQUARE FEET']\n",
    "\n",
    "lm = LinearRegression()\n",
    "model = lm.fit(X.values.reshape(-1,1), y.values.reshape(-1,1))\n",
    "\n",
    "print(\"Intercept: \",model.intercept_)\n",
    "print(\"Coffecient: \",model.coef_)\n",
    "print(\"Regression Model: Y={}+{}X\".format(model.intercept_,model.coef_))\n",
    "print(\"R-Squared: \", model.score(X.values.reshape(-1,1),y.values.reshape(-1,1)))"
   ]
  },
  {
   "cell_type": "code",
   "execution_count": 81,
   "metadata": {},
   "outputs": [
    {
     "name": "stdout",
     "output_type": "stream",
     "text": [
      "Intercept:  [1033.76397579]\n",
      "Coffecient:  [[0.63778678]]\n",
      "Regression Model: Y=[1033.76397579]+[[0.63778678]]X\n",
      "R-Squared:  0.4133841980340116\n"
     ]
    }
   ],
   "source": [
    "#regression model for predicting Land Square feet\n",
    "\n",
    "X = imputation['GROSS SQUARE FEET']\n",
    "y = imputation['LAND SQUARE FEET']\n",
    "\n",
    "lm = LinearRegression()\n",
    "\n",
    "model = lm.fit(X.values.reshape(-1,1), y.values.reshape(-1,1))\n",
    "\n",
    "\n",
    "print(\"Intercept: \", model.intercept_)\n",
    "print(\"Coffecient: \", model.coef_)\n",
    "print(\"Regression Model: Y={}+{}X\".format(model.intercept_,model.coef_))\n",
    "print(\"R-Squared: \", model.score(X.values.reshape(-1,1),y.values.reshape(-1,1)))"
   ]
  },
  {
   "cell_type": "code",
   "execution_count": 82,
   "metadata": {},
   "outputs": [],
   "source": [
    "def imputer_gross(x):\n",
    "    return x * 0.64779857 + 1822.76092513\n",
    "\n",
    "def imputer_land(x):\n",
    "    return x * 0.6375468 + 1107.3023519"
   ]
  },
  {
   "cell_type": "code",
   "execution_count": 83,
   "metadata": {},
   "outputs": [],
   "source": [
    "# Imputing missing values of theese columns.\n",
    "\n",
    "df['LAND SQUARE FEET'] = df['LAND SQUARE FEET'].mask((df['LAND SQUARE FEET'].isnull()) & (df['GROSS SQUARE FEET'].notnull()),imputer_land(df['GROSS SQUARE FEET']))\n",
    "df['GROSS SQUARE FEET'] = df['GROSS SQUARE FEET'].mask((df['LAND SQUARE FEET'].notnull()) & (df['GROSS SQUARE FEET'].isnull()),imputer_gross(df['LAND SQUARE FEET']))"
   ]
  },
  {
   "cell_type": "code",
   "execution_count": 84,
   "metadata": {},
   "outputs": [],
   "source": [
    "df = df[df[\"SALE PRICE\"] > 0]  # Deleting 0 price transfer transactions \n",
    "df = df[df[\"SALE PRICE\"].notnull()] # Deleting nan values of dependence variable"
   ]
  },
  {
   "cell_type": "code",
   "execution_count": 85,
   "metadata": {},
   "outputs": [
    {
     "data": {
      "image/png": "[encoded data removed]",
      "text/plain": [
       "<Figure size 864x432 with 1 Axes>"
      ]
     },
     "metadata": {},
     "output_type": "display_data"
    }
   ],
   "source": [
    "plt.figure(figsize=(12,6))\n",
    "sns.heatmap(df.isnull(),yticklabels=False,cbar=False,cmap='viridis');"
   ]
  },
  {
   "cell_type": "code",
   "execution_count": 86,
   "metadata": {},
   "outputs": [],
   "source": [
    "del df[\"BUILDING CLASS AT PRESENT\"] # It contains the same information with BUILDING CLASS CATEGORY\n",
    "del df[\"ADDRESS\"] # The variable 1 not required for the model\n",
    "del df[\"ZIP CODE\"] # The variable 2 not required for the model\n",
    "del df[\"SALE DATE\"] # We don't need it as we have created the year and month variables.\n",
    "df.drop([\"EASE-MENT\",\"APARTMENT NUMBER\"], axis=1, inplace=True) # Completely empty columns.\n",
    "\n",
    "df = df.dropna() \n",
    "df.drop_duplicates(keep = \"last\", inplace=True)"
   ]
  },
  {
   "cell_type": "code",
   "execution_count": 87,
   "metadata": {},
   "outputs": [],
   "source": [
    "# Removing data where commercial + residential doesn't equal total units\n",
    "df = df[df['TOTAL UNITS'] == df['COMMERCIAL UNITS'] + df['RESIDENTIAL UNITS']]"
   ]
  },
  {
   "cell_type": "code",
   "execution_count": 88,
   "metadata": {},
   "outputs": [
    {
     "data": {
      "text/html": [
       "<div>\n",
       "<style scoped>\n",
       "    .dataframe tbody tr th:only-of-type {\n",
       "        vertical-align: middle;\n",
       "    }\n",
       "\n",
       "    .dataframe tbody tr th {\n",
       "        vertical-align: top;\n",
       "    }\n",
       "\n",
       "    .dataframe thead th {\n",
       "        text-align: right;\n",
       "    }\n",
       "</style>\n",
       "<table border=\"1\" class=\"dataframe\">\n",
       "  <thead>\n",
       "    <tr style=\"text-align: right;\">\n",
       "      <th></th>\n",
       "      <th>TOTAL UNITS</th>\n",
       "      <th>SALE PRICE</th>\n",
       "    </tr>\n",
       "  </thead>\n",
       "  <tbody>\n",
       "    <tr>\n",
       "      <th>1</th>\n",
       "      <td>1</td>\n",
       "      <td>17768</td>\n",
       "    </tr>\n",
       "    <tr>\n",
       "      <th>2</th>\n",
       "      <td>2</td>\n",
       "      <td>10182</td>\n",
       "    </tr>\n",
       "    <tr>\n",
       "      <th>0</th>\n",
       "      <td>0</td>\n",
       "      <td>4268</td>\n",
       "    </tr>\n",
       "    <tr>\n",
       "      <th>3</th>\n",
       "      <td>3</td>\n",
       "      <td>2954</td>\n",
       "    </tr>\n",
       "    <tr>\n",
       "      <th>4</th>\n",
       "      <td>4</td>\n",
       "      <td>801</td>\n",
       "    </tr>\n",
       "    <tr>\n",
       "      <th>...</th>\n",
       "      <td>...</td>\n",
       "      <td>...</td>\n",
       "    </tr>\n",
       "    <tr>\n",
       "      <th>110</th>\n",
       "      <td>143</td>\n",
       "      <td>1</td>\n",
       "    </tr>\n",
       "    <tr>\n",
       "      <th>111</th>\n",
       "      <td>145</td>\n",
       "      <td>1</td>\n",
       "    </tr>\n",
       "    <tr>\n",
       "      <th>112</th>\n",
       "      <td>146</td>\n",
       "      <td>1</td>\n",
       "    </tr>\n",
       "    <tr>\n",
       "      <th>115</th>\n",
       "      <td>155</td>\n",
       "      <td>1</td>\n",
       "    </tr>\n",
       "    <tr>\n",
       "      <th>152</th>\n",
       "      <td>2261</td>\n",
       "      <td>1</td>\n",
       "    </tr>\n",
       "  </tbody>\n",
       "</table>\n",
       "<p>153 rows × 2 columns</p>\n",
       "</div>"
      ],
      "text/plain": [
       "     TOTAL UNITS  SALE PRICE\n",
       "1              1       17768\n",
       "2              2       10182\n",
       "0              0        4268\n",
       "3              3        2954\n",
       "4              4         801\n",
       "..           ...         ...\n",
       "110          143           1\n",
       "111          145           1\n",
       "112          146           1\n",
       "115          155           1\n",
       "152         2261           1\n",
       "\n",
       "[153 rows x 2 columns]"
      ]
     },
     "execution_count": 88,
     "metadata": {},
     "output_type": "execute_result"
    }
   ],
   "source": [
    "df[[\"TOTAL UNITS\", \"SALE PRICE\"]].groupby(['TOTAL UNITS'], as_index=False).count().sort_values(by='SALE PRICE', ascending=False)\n"
   ]
  },
  {
   "cell_type": "code",
   "execution_count": 89,
   "metadata": {},
   "outputs": [],
   "source": [
    "# Removing rows with TOTAL UNITS == 0 and one outlier with 2261 units\n",
    "df = df[(df['TOTAL UNITS'] > 0) & (df['TOTAL UNITS'] != 2261)]"
   ]
  },
  {
   "cell_type": "code",
   "execution_count": 90,
   "metadata": {},
   "outputs": [],
   "source": [
    "df = df[df['YEAR BUILT'] != 0]\n",
    "del df['YEAR BUILT']"
   ]
  },
  {
   "cell_type": "code",
   "execution_count": 92,
   "metadata": {},
   "outputs": [],
   "source": [
    "# Square feet should not be 0.\n",
    "df = df[df[\"LAND SQUARE FEET\"] != 0]\n",
    "df = df[df[\"GROSS SQUARE FEET\"] != 0]"
   ]
  },
  {
   "cell_type": "code",
   "execution_count": 93,
   "metadata": {},
   "outputs": [
    {
     "data": {
      "text/plain": [
       "(29262, 17)"
      ]
     },
     "execution_count": 93,
     "metadata": {},
     "output_type": "execute_result"
    }
   ],
   "source": [
    "df.shape"
   ]
  }
 ],
 "metadata": {
  "interpreter": {
   "hash": "2c5cb1b7b332dec13a8fc502609ed9a2d9468850c5c8da1bef0fc52a82228cfb"
  },
  "kernelspec": {
   "display_name": "Python 3.10.0 64-bit ('Maj-Proj': venv)",
   "language": "python",
   "name": "python3"
  },
  "language_info": {
   "codemirror_mode": {
    "name": "ipython",
    "version": 3
   },
   "file_extension": ".py",
   "mimetype": "text/x-python",
   "name": "python",
   "nbconvert_exporter": "python",
   "pygments_lexer": "ipython3",
   "version": "3.10.0"
  },
  "orig_nbformat": 4
 },
 "nbformat": 4,
 "nbformat_minor": 2
}
