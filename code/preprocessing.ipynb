{
 "cells": [
  {
   "cell_type": "code",
   "execution_count": 1,
   "metadata": {},
   "outputs": [
    {
     "name": "stderr",
     "output_type": "stream",
     "text": [
      "c:\\Users\\TRIDENT\\Desktop\\Maj-Proj\\lib\\site-packages\\xgboost\\compat.py:36: FutureWarning:\n",
      "\n",
      "pandas.Int64Index is deprecated and will be removed from pandas in a future version. Use pandas.Index with the appropriate dtype instead.\n",
      "\n"
     ]
    }
   ],
   "source": [
    "import numpy as np\n",
    "import pandas as pd\n",
    "import matplotlib.pyplot as plt\n",
    "import matplotlib.ticker as ticker\n",
    "import plotly.graph_objs as go\n",
    "import plotly.offline as py\n",
    "import seaborn as sns\n",
    "from IPython.display import display,Image\n",
    "from collections import Counter\n",
    "\n",
    "%matplotlib inline\n",
    "sns.set(style = 'white', context = 'notebook', palette = 'deep')\n",
    "\n",
    "import matplotlib.style as style\n",
    "style.use('fivethirtyeight')\n",
    "import time\n",
    "\n",
    "from sklearn.linear_model import LinearRegression\n",
    "from sklearn.tree import DecisionTreeRegressor\n",
    "from sklearn.ensemble import RandomForestRegressor\n",
    "from sklearn.neural_network import MLPRegressor\n",
    "from sklearn.linear_model import Ridge,Lasso\n",
    "from sklearn.neighbors import KNeighborsRegressor\n",
    "import xgboost as xgb\n",
    "import lightgbm\n",
    "\n",
    "from sklearn.model_selection import train_test_split\n",
    "from sklearn.metrics import mean_squared_error, r2_score, mean_absolute_error\n",
    "from sklearn.preprocessing import StandardScaler\n",
    "from sklearn.model_selection import GridSearchCV\n",
    "\n",
    "import warnings\n",
    "warnings.filterwarnings('ignore')"
   ]
  },
  {
   "cell_type": "code",
   "execution_count": 4,
   "metadata": {},
   "outputs": [],
   "source": [
    "df = pd.read_csv('../nyc-rolling-sales.csv',index_col=0)"
   ]
  },
  {
   "cell_type": "markdown",
   "metadata": {},
   "source": [
    "## EDA"
   ]
  },
  {
   "cell_type": "code",
   "execution_count": 10,
   "metadata": {},
   "outputs": [
    {
     "name": "stdout",
     "output_type": "stream",
     "text": [
      "-------------------------------------------------\n",
      "   BOROUGH   NEIGHBORHOOD                      BUILDING CLASS CATEGORY  \\\n",
      "4        1  ALPHABET CITY  07 RENTALS - WALKUP APARTMENTS                \n",
      "5        1  ALPHABET CITY  07 RENTALS - WALKUP APARTMENTS                \n",
      "6        1  ALPHABET CITY  07 RENTALS - WALKUP APARTMENTS                \n",
      "7        1  ALPHABET CITY  07 RENTALS - WALKUP APARTMENTS                \n",
      "8        1  ALPHABET CITY  07 RENTALS - WALKUP APARTMENTS                \n",
      "\n",
      "  TAX CLASS AT PRESENT  BLOCK  LOT EASE-MENT BUILDING CLASS AT PRESENT  \\\n",
      "4                   2A    392    6                                  C2   \n",
      "5                    2    399   26                                  C7   \n",
      "6                    2    399   39                                  C7   \n",
      "7                   2B    402   21                                  C4   \n",
      "8                   2A    404   55                                  C2   \n",
      "\n",
      "                  ADDRESS APARTMENT NUMBER  ...  RESIDENTIAL UNITS  \\\n",
      "4            153 AVENUE B                   ...                  5   \n",
      "5   234 EAST 4TH   STREET                   ...                 28   \n",
      "6   197 EAST 3RD   STREET                   ...                 16   \n",
      "7     154 EAST 7TH STREET                   ...                 10   \n",
      "8  301 EAST 10TH   STREET                   ...                  6   \n",
      "\n",
      "   COMMERCIAL UNITS  TOTAL UNITS  LAND SQUARE FEET GROSS SQUARE FEET  \\\n",
      "4                 0            5              1633              6440   \n",
      "5                 3           31              4616             18690   \n",
      "6                 1           17              2212              7803   \n",
      "7                 0           10              2272              6794   \n",
      "8                 0            6              2369              4615   \n",
      "\n",
      "  YEAR BUILT  TAX CLASS AT TIME OF SALE  BUILDING CLASS AT TIME OF SALE  \\\n",
      "4       1900                          2                              C2   \n",
      "5       1900                          2                              C7   \n",
      "6       1900                          2                              C7   \n",
      "7       1913                          2                              C4   \n",
      "8       1900                          2                              C2   \n",
      "\n",
      "  SALE PRICE            SALE DATE  \n",
      "4    6625000  2017-07-19 00:00:00  \n",
      "5        -    2016-12-14 00:00:00  \n",
      "6        -    2016-12-09 00:00:00  \n",
      "7    3936272  2016-09-23 00:00:00  \n",
      "8    8000000  2016-11-17 00:00:00  \n",
      "\n",
      "[5 rows x 21 columns]\n",
      "-------------------------------------------------\n",
      "shape of dataset =>(84548, 21)\n",
      "-------------------------------------------------\n"
     ]
    }
   ],
   "source": [
    "df_raw = df\n",
    "print(\"-------------------------------------------------\")\n",
    "print(df.head())\n",
    "print(\"-------------------------------------------------\")\n",
    "print(f\"shape of dataset =>{df.shape}\")\n",
    "print(\"-------------------------------------------------\")"
   ]
  },
  {
   "cell_type": "code",
   "execution_count": 12,
   "metadata": {},
   "outputs": [
    {
     "name": "stdout",
     "output_type": "stream",
     "text": [
      "4       122\n",
      "5       122\n",
      "6       122\n",
      "7       109\n",
      "8       122\n",
      "       ... \n",
      "8409     24\n",
      "8410     24\n",
      "8411     97\n",
      "8412     21\n",
      "8413     16\n",
      "Name: BUILDING_AGE, Length: 84548, dtype: int64\n"
     ]
    }
   ],
   "source": [
    "## adding new variables\n",
    "\n",
    "df['BUILDING_AGE'] = 2022 - df['YEAR BUILT']\n",
    "print(df['BUILDING_AGE'])\n"
   ]
  },
  {
   "cell_type": "code",
   "execution_count": 13,
   "metadata": {},
   "outputs": [],
   "source": [
    "df['BOROUGH'] = df['BOROUGH'].map({1:'Manhattan', 2:'Bronx', 3: 'Brooklyn', 4:'Queens',5:'Staten Island'})"
   ]
  },
  {
   "cell_type": "code",
   "execution_count": 15,
   "metadata": {},
   "outputs": [],
   "source": [
    "# creating year and month column\n",
    "df['sale_year'] = pd.DatetimeIndex(df['SALE DATE']).year\n",
    "df['sale_month'] = pd.DatetimeIndex(df['SALE DATE']).month"
   ]
  },
  {
   "cell_type": "code",
   "execution_count": 16,
   "metadata": {},
   "outputs": [],
   "source": [
    "df['SALE DATE'] = pd.to_datetime(df['SALE DATE'],errors = 'coerce')"
   ]
  },
  {
   "cell_type": "code",
   "execution_count": 17,
   "metadata": {},
   "outputs": [],
   "source": [
    "numeric = [\"RESIDENTIAL UNITS\",\"COMMERCIAL UNITS\",\"TOTAL UNITS\", \"LAND SQUARE FEET\" ,\n",
    "           \"GROSS SQUARE FEET\",\"SALE PRICE\" ]\n",
    "\n",
    "for col in numeric:\n",
    "    df[col] = pd.to_datetime(df[col],errors = 'coerce')"
   ]
  },
  {
   "cell_type": "code",
   "execution_count": 18,
   "metadata": {},
   "outputs": [],
   "source": [
    "categorical = [\"BOROUGH\",\"NEIGHBORHOOD\",'BUILDING CLASS CATEGORY', 'TAX CLASS AT PRESENT',\n",
    "               'BUILDING CLASS AT PRESENT','ZIP CODE', 'BUILDING CLASS AT TIME OF SALE', 'TAX CLASS AT TIME OF SALE']\n",
    "\n",
    "for col in categorical:\n",
    "    df[col] = df[col].astype(object)"
   ]
  },
  {
   "cell_type": "markdown",
   "metadata": {},
   "source": [
    "## MISSING VALUE \n"
   ]
  },
  {
   "cell_type": "code",
   "execution_count": null,
   "metadata": {},
   "outputs": [],
   "source": []
  },
  {
   "cell_type": "code",
   "execution_count": null,
   "metadata": {},
   "outputs": [],
   "source": []
  },
  {
   "cell_type": "code",
   "execution_count": null,
   "metadata": {},
   "outputs": [],
   "source": []
  },
  {
   "cell_type": "code",
   "execution_count": null,
   "metadata": {},
   "outputs": [],
   "source": []
  },
  {
   "cell_type": "code",
   "execution_count": null,
   "metadata": {},
   "outputs": [],
   "source": []
  },
  {
   "cell_type": "code",
   "execution_count": null,
   "metadata": {},
   "outputs": [],
   "source": []
  },
  {
   "cell_type": "code",
   "execution_count": null,
   "metadata": {},
   "outputs": [],
   "source": []
  },
  {
   "cell_type": "code",
   "execution_count": null,
   "metadata": {},
   "outputs": [],
   "source": []
  },
  {
   "cell_type": "code",
   "execution_count": null,
   "metadata": {},
   "outputs": [],
   "source": []
  },
  {
   "cell_type": "code",
   "execution_count": null,
   "metadata": {},
   "outputs": [],
   "source": []
  },
  {
   "cell_type": "code",
   "execution_count": null,
   "metadata": {},
   "outputs": [],
   "source": []
  },
  {
   "cell_type": "code",
   "execution_count": null,
   "metadata": {},
   "outputs": [],
   "source": []
  },
  {
   "cell_type": "code",
   "execution_count": null,
   "metadata": {},
   "outputs": [],
   "source": []
  },
  {
   "cell_type": "code",
   "execution_count": null,
   "metadata": {},
   "outputs": [],
   "source": []
  },
  {
   "cell_type": "code",
   "execution_count": null,
   "metadata": {},
   "outputs": [],
   "source": []
  },
  {
   "cell_type": "code",
   "execution_count": null,
   "metadata": {},
   "outputs": [],
   "source": []
  }
 ],
 "metadata": {
  "interpreter": {
   "hash": "2c5cb1b7b332dec13a8fc502609ed9a2d9468850c5c8da1bef0fc52a82228cfb"
  },
  "kernelspec": {
   "display_name": "Python 3.10.0 64-bit ('Maj-Proj': venv)",
   "language": "python",
   "name": "python3"
  },
  "language_info": {
   "codemirror_mode": {
    "name": "ipython",
    "version": 3
   },
   "file_extension": ".py",
   "mimetype": "text/x-python",
   "name": "python",
   "nbconvert_exporter": "python",
   "pygments_lexer": "ipython3",
   "version": "3.10.0"
  },
  "orig_nbformat": 4
 },
 "nbformat": 4,
 "nbformat_minor": 2
}
